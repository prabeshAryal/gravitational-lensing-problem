{
 "cells": [
  {
   "cell_type": "code",
   "execution_count": 5,
   "id": "57587060-193d-4411-928d-68e62f1734d9",
   "metadata": {},
   "outputs": [
    {
     "name": "stdout",
     "output_type": "stream",
     "text": [
      "Python 3.9.21\n"
     ]
    }
   ],
   "source": [
    "!python --version\n"
   ]
  },
  {
   "cell_type": "code",
   "execution_count": 4,
   "id": "057d559d-8bb2-4bad-afa4-7380730b0249",
   "metadata": {
    "editable": true,
    "slideshow": {
     "slide_type": ""
    },
    "tags": []
   },
   "outputs": [
    {
     "name": "stdout",
     "output_type": "stream",
     "text": [
      "Requirement already satisfied: torch in c:\\users\\prabe\\.conda\\envs\\ilastik\\envs\\ml4sci\\lib\\site-packages (2.6.0)\n",
      "Requirement already satisfied: torchvision in c:\\users\\prabe\\.conda\\envs\\ilastik\\envs\\ml4sci\\lib\\site-packages (0.21.0)\n",
      "Requirement already satisfied: numpy in c:\\users\\prabe\\.conda\\envs\\ilastik\\envs\\ml4sci\\lib\\site-packages (2.0.2)\n",
      "Requirement already satisfied: matplotlib in c:\\users\\prabe\\.conda\\envs\\ilastik\\envs\\ml4sci\\lib\\site-packages (3.9.4)\n",
      "Requirement already satisfied: scikit-learn in c:\\users\\prabe\\.conda\\envs\\ilastik\\envs\\ml4sci\\lib\\site-packages (1.6.1)\n",
      "Requirement already satisfied: filelock in c:\\users\\prabe\\.conda\\envs\\ilastik\\envs\\ml4sci\\lib\\site-packages (from torch) (3.18.0)\n",
      "Requirement already satisfied: typing-extensions>=4.10.0 in c:\\users\\prabe\\.conda\\envs\\ilastik\\envs\\ml4sci\\lib\\site-packages (from torch) (4.12.2)\n",
      "Requirement already satisfied: networkx in c:\\users\\prabe\\.conda\\envs\\ilastik\\envs\\ml4sci\\lib\\site-packages (from torch) (3.2.1)\n",
      "Requirement already satisfied: jinja2 in c:\\users\\prabe\\.conda\\envs\\ilastik\\envs\\ml4sci\\lib\\site-packages (from torch) (3.1.6)\n",
      "Requirement already satisfied: fsspec in c:\\users\\prabe\\.conda\\envs\\ilastik\\envs\\ml4sci\\lib\\site-packages (from torch) (2025.3.0)\n",
      "Requirement already satisfied: sympy==1.13.1 in c:\\users\\prabe\\.conda\\envs\\ilastik\\envs\\ml4sci\\lib\\site-packages (from torch) (1.13.1)\n",
      "Requirement already satisfied: mpmath<1.4,>=1.1.0 in c:\\users\\prabe\\.conda\\envs\\ilastik\\envs\\ml4sci\\lib\\site-packages (from sympy==1.13.1->torch) (1.3.0)\n",
      "Requirement already satisfied: pillow!=8.3.*,>=5.3.0 in c:\\users\\prabe\\.conda\\envs\\ilastik\\envs\\ml4sci\\lib\\site-packages (from torchvision) (11.1.0)\n",
      "Requirement already satisfied: contourpy>=1.0.1 in c:\\users\\prabe\\.conda\\envs\\ilastik\\envs\\ml4sci\\lib\\site-packages (from matplotlib) (1.3.0)\n",
      "Requirement already satisfied: cycler>=0.10 in c:\\users\\prabe\\.conda\\envs\\ilastik\\envs\\ml4sci\\lib\\site-packages (from matplotlib) (0.12.1)\n",
      "Requirement already satisfied: fonttools>=4.22.0 in c:\\users\\prabe\\.conda\\envs\\ilastik\\envs\\ml4sci\\lib\\site-packages (from matplotlib) (4.56.0)\n",
      "Requirement already satisfied: kiwisolver>=1.3.1 in c:\\users\\prabe\\.conda\\envs\\ilastik\\envs\\ml4sci\\lib\\site-packages (from matplotlib) (1.4.7)\n",
      "Requirement already satisfied: packaging>=20.0 in c:\\users\\prabe\\.conda\\envs\\ilastik\\envs\\ml4sci\\lib\\site-packages (from matplotlib) (24.2)\n",
      "Requirement already satisfied: pyparsing>=2.3.1 in c:\\users\\prabe\\.conda\\envs\\ilastik\\envs\\ml4sci\\lib\\site-packages (from matplotlib) (3.2.3)\n",
      "Requirement already satisfied: python-dateutil>=2.7 in c:\\users\\prabe\\.conda\\envs\\ilastik\\envs\\ml4sci\\lib\\site-packages (from matplotlib) (2.9.0.post0)\n",
      "Requirement already satisfied: importlib-resources>=3.2.0 in c:\\users\\prabe\\.conda\\envs\\ilastik\\envs\\ml4sci\\lib\\site-packages (from matplotlib) (6.5.2)\n",
      "Requirement already satisfied: scipy>=1.6.0 in c:\\users\\prabe\\.conda\\envs\\ilastik\\envs\\ml4sci\\lib\\site-packages (from scikit-learn) (1.13.1)\n",
      "Requirement already satisfied: joblib>=1.2.0 in c:\\users\\prabe\\.conda\\envs\\ilastik\\envs\\ml4sci\\lib\\site-packages (from scikit-learn) (1.4.2)\n",
      "Requirement already satisfied: threadpoolctl>=3.1.0 in c:\\users\\prabe\\.conda\\envs\\ilastik\\envs\\ml4sci\\lib\\site-packages (from scikit-learn) (3.6.0)\n",
      "Requirement already satisfied: zipp>=3.1.0 in c:\\users\\prabe\\.conda\\envs\\ilastik\\envs\\ml4sci\\lib\\site-packages (from importlib-resources>=3.2.0->matplotlib) (3.21.0)\n",
      "Requirement already satisfied: six>=1.5 in c:\\users\\prabe\\.conda\\envs\\ilastik\\envs\\ml4sci\\lib\\site-packages (from python-dateutil>=2.7->matplotlib) (1.16.0)\n",
      "Requirement already satisfied: MarkupSafe>=2.0 in c:\\users\\prabe\\.conda\\envs\\ilastik\\envs\\ml4sci\\lib\\site-packages (from jinja2->torch) (3.0.2)\n"
     ]
    }
   ],
   "source": [
    "!pip install torch torchvision numpy matplotlib scikit-learn"
   ]
  },
  {
   "cell_type": "code",
   "execution_count": 6,
   "id": "3b6ebd37-f0bc-4a64-9109-50fed0d61cde",
   "metadata": {},
   "outputs": [
    {
     "name": "stdout",
     "output_type": "stream",
     "text": [
      "Number of CUDA devices available: 1\n",
      "Device 0: NVIDIA GeForce RTX 3050 Ti Laptop GPU\n"
     ]
    }
   ],
   "source": [
    "import torch\n",
    "\n",
    "if torch.cuda.is_available():\n",
    "    num_cuda_devices = torch.cuda.device_count()\n",
    "    print(f\"Number of CUDA devices available: {num_cuda_devices}\")\n",
    "    for i in range(num_cuda_devices):\n",
    "        device_name = torch.cuda.get_device_name(i)\n",
    "        print(f\"Device {i}: {device_name}\")\n",
    "else:\n",
    "    print(\"CUDA is not available on this system.\")"
   ]
  },
  {
   "cell_type": "code",
   "execution_count": null,
   "id": "90c17574-a95e-4e35-bc47-815791704e6f",
   "metadata": {
    "editable": true,
    "slideshow": {
     "slide_type": ""
    },
    "tags": []
   },
   "outputs": [],
   "source": [
    "# # !pip3 install torch torchvision torchaudio --index-url https://download.pytorch.org/whl/cu126"
   ]
  },
  {
   "cell_type": "code",
   "execution_count": null,
   "id": "25d96f92-6f3a-4a27-8b01-51bea624ac6e",
   "metadata": {},
   "outputs": [],
   "source": []
  }
 ],
 "metadata": {
  "kernelspec": {
   "display_name": "Python 3 (ipykernel)",
   "language": "python",
   "name": "python3"
  },
  "language_info": {
   "codemirror_mode": {
    "name": "ipython",
    "version": 3
   },
   "file_extension": ".py",
   "mimetype": "text/x-python",
   "name": "python",
   "nbconvert_exporter": "python",
   "pygments_lexer": "ipython3",
   "version": "3.12.7"
  }
 },
 "nbformat": 4,
 "nbformat_minor": 5
}
